{
 "cells": [
  {
   "cell_type": "markdown",
   "metadata": {},
   "source": [
    "# Python - Function Arguments & Object-Oriented Programming\n",
    "\n",
    "In this notebook, we discuss the following two techniques of python programming.\n",
    "- Passing multiple arguments to a function\n",
    "- OOP and single inheritance\n",
    "\n",
    "\n",
    "## Passing Multiple Arguments to a Function\n",
    "\n",
    "We present two convenient ways for using varying number of arguments in a function.\n",
    "- Unnamed Arguments (\\*args)\n",
    "- Named or Keyword Arguments (\\**kwargs)\n",
    "\n",
    "\\*args and \\**kwargs use the unpacking operator * to pass multiple arguments or keyword arguments to a function. \n",
    "\n",
    "\n",
    "\n",
    "\n",
    "## Function with Unnamed Arguments (\\*args)\n",
    "\n",
    "Via the \\*args, we pass a varying number of positional arguments. The function takes all the parameters that are provided in the input and packs them all into a single iterable object named args. The iterable object is a tuple, not a list.\n",
    "\n",
    "Below we define two functions for computing sum of some arguments. While the function \"sumA\" is defined on two fixed arguments, the function \"sumB\" can operate on any number of arguments."
   ]
  },
  {
   "cell_type": "code",
   "execution_count": 1,
   "metadata": {},
   "outputs": [
    {
     "name": "stdout",
     "output_type": "stream",
     "text": [
      "24\n",
      "45\n"
     ]
    }
   ],
   "source": [
    "def sumA(x, y):\n",
    "    return (x * y)\n",
    "\n",
    "\n",
    "def sumB(*args):     \n",
    "    val = 0\n",
    "    for arg in args:  \n",
    "        val += arg\n",
    "        \n",
    "    return val\n",
    "\n",
    "result1 = sumB(7, 8, 9)\n",
    "print(result1)\n",
    "\n",
    "result2 = sumB(7, 8, 9, 10, 11)\n",
    "print(result2)"
   ]
  },
  {
   "cell_type": "markdown",
   "metadata": {},
   "source": [
    "## Function with Named or Keyword Arguments (\\**kwargs)\n",
    "\n",
    "The **kwargs accepts keyword (or named) arguments, unlike *args that accepts positional arguments.\n",
    "\n",
    "The function takes all the parameters that are provided in the input via \\**kwargs and packs them all into a single iterable object named kwargs. The iterable object is a standard dictionary of the named arguments. \n",
    "\n",
    "For returning the values from the dictionary, we may use one of the two techniques shown in the example below."
   ]
  },
  {
   "cell_type": "code",
   "execution_count": 2,
   "metadata": {},
   "outputs": [
    {
     "name": "stdout",
     "output_type": "stream",
     "text": [
      "116\n",
      "274\n"
     ]
    }
   ],
   "source": [
    "def sumB(**kwargs):  \n",
    "    result = 0\n",
    "    \n",
    "#     for key, value in kwargs.items(): \n",
    "#         result += value\n",
    "            \n",
    "    for value in kwargs.values():\n",
    "        result += value\n",
    "         \n",
    "        \n",
    "    return result\n",
    "\n",
    "total = sumB(quiz1 = 17, quiz2 = 8, assignment1 = 91)\n",
    "print(total)\n",
    "\n",
    "\n",
    "total = sumB(quiz1 = 17, quiz2 = 8, assignment1 = 91, assignment2 = 80, mid = 78)\n",
    "print(total)"
   ]
  },
  {
   "cell_type": "markdown",
   "metadata": {},
   "source": [
    "## Function with both Unnamed (\\*args) and Named/Keyword Arguments (\\**kwargs)"
   ]
  },
  {
   "cell_type": "code",
   "execution_count": 3,
   "metadata": {},
   "outputs": [
    {
     "name": "stdout",
     "output_type": "stream",
     "text": [
      "unnamed args: (1, 2)\n",
      "keyword args: {'key1': 'word1', 'key2': 'word2'}\n"
     ]
    }
   ],
   "source": [
    "def func(*args, **kwargs):\n",
    "    print(\"unnamed args:\", args)\n",
    "    print(\"keyword args:\", kwargs)\n",
    "\n",
    "func(1, 2, key1=\"word1\", key2=\"word2\")"
   ]
  },
  {
   "cell_type": "markdown",
   "metadata": {},
   "source": [
    "# Python Object-Oriented Programming\n",
    "\n",
    "\n",
    "To define a class, start with the \"class\" keyword, followed by the class name (using CapitalizedWords naming convention) and a colon. The body of the class should be indented.\n",
    "\n",
    "\n",
    "Normally, a class has a constructor, named \\__init__. It takes whatever parameters we need to construct an instance of our class and does whatever setup we need. Every time a new instance is created, \\__init__() sets the initial state of the object by assigning the values of the object’s properties. \n",
    "\n",
    "\n",
    "The first parameter of the \\__init__() method should be a variable called self, which refers to the particular class instance. When a new class instance is created, the instance is automatically passed to the self parameter in \\__init__() so that new attributes can be defined on the object.\n",
    "\n",
    "\n",
    "A class contains zero or more member functions. By convention, each function takes a first parameter \"self\" that refers to the particular class instance.\n",
    "\n",
    "\n",
    "#### Instance Attributes:\n",
    "Attributes created in \\__init__() are called instance attributes. An instance attribute’s value is specific to a particular instance of the class. In the example below, all Employee objects have a name and a salary, but the values for the name and salary attributes will vary depending on the Employee instance.\n",
    "\n",
    "#### Class Attributes:\n",
    "The class attributes have the same value for all class instances. We can define a class attribute by assigning a value to a variable name outside of \\__init__().\n",
    "\n",
    "We use class attributes to define properties that should have the same value for every class instance. On the onther hand, we use instance attributes for properties that vary from one instance to another.\n",
    "\n",
    "#### Instance Methods:\n",
    "Instance methods are functions that are defined inside a class and can only be called from an instance of that class. Just like \\__init__(), an instance method’s first parameter is always self."
   ]
  },
  {
   "cell_type": "code",
   "execution_count": 4,
   "metadata": {},
   "outputs": [
    {
     "name": "stdout",
     "output_type": "stream",
     "text": [
      "Name :  Feynman , Salary:  300\n",
      "Total Employee: 1\n",
      "Name :  Hinton , Salary:  600\n",
      "Total Employee: 2\n"
     ]
    }
   ],
   "source": [
    "class Employee:\n",
    "    # Class attribute\n",
    "    empCount = 0\n",
    "\n",
    "    # Constructor method\n",
    "    def __init__(self, name, salary): # Instance attributes\n",
    "        self.name = name\n",
    "        self.salary = salary\n",
    "        Employee.empCount += 1\n",
    "   \n",
    "    # Instance method\n",
    "    def displayCount(self):\n",
    "        print(\"Total Employee: %d\" % self.empCount)\n",
    "\n",
    "    # Instance method\n",
    "    def displayEmployee(self):\n",
    "        print(\"Name : \", self.name,  \", Salary: \", self.salary)\n",
    "        \n",
    "    # Instance method\n",
    "    def employeePrivilege(self):\n",
    "        print(\"All employees can use the cafeteria.\")\n",
    "        \n",
    "        \n",
    "        \n",
    "employee1 = Employee(\"Feynman\", 300)\n",
    "employee1.displayEmployee()\n",
    "employee1.displayCount()\n",
    "\n",
    "employee2 = Employee(\"Hinton\", 600)\n",
    "employee2.displayEmployee()\n",
    "employee2.displayCount()"
   ]
  },
  {
   "cell_type": "markdown",
   "metadata": {},
   "source": [
    "## Class with Many Attributes\n",
    "\n",
    "In the above example, the Employee class has just two attributes. However, if the number of potential arguments is large, then it is better to use the keyword arguments \\**kwargs, as follows."
   ]
  },
  {
   "cell_type": "code",
   "execution_count": 5,
   "metadata": {},
   "outputs": [
    {
     "name": "stdout",
     "output_type": "stream",
     "text": [
      "Name :  Feynman , Salary:  300\n",
      "Total Employee: 1\n",
      "Name :  Hinton , Salary:  600\n",
      "Total Employee: 2\n"
     ]
    }
   ],
   "source": [
    "class Employee_new:\n",
    "    # Class attribute\n",
    "    empCount = 0\n",
    "\n",
    "    def __init__(self, **kwargs): # Instance attributes\n",
    "        self.name = kwargs[\"name\"]\n",
    "        self.salary = kwargs[\"salary\"]\n",
    "        Employee_new.empCount += 1\n",
    "   \n",
    "    # Instance method\n",
    "    def displayCount(self):\n",
    "        print(\"Total Employee: %d\" % self.empCount)\n",
    "\n",
    "    # Instance method\n",
    "    def displayEmployee(self):\n",
    "        print(\"Name : \", self.name,  \", Salary: \", self.salary)\n",
    "        \n",
    "    # Instance method\n",
    "    def employeePrivilege(self):\n",
    "        print(\"All employees can use the cafeteria.\")\n",
    "        \n",
    "        \n",
    "        \n",
    "employee1 = Employee_new(name=\"Feynman\", salary=300)\n",
    "employee1.displayEmployee()\n",
    "employee1.displayCount()\n",
    "\n",
    "employee2 = Employee_new(name=\"Hinton\", salary=600)\n",
    "employee2.displayEmployee()\n",
    "employee2.displayCount()"
   ]
  },
  {
   "cell_type": "markdown",
   "metadata": {},
   "source": [
    "## Single Inheritance\n",
    "\n",
    "Inheritance is the process by which one class takes on the attributes and methods of another. Newly formed classes are called child classes, and the classes that child classes are derived from are called parent classes.\n",
    "\n",
    "Child classes can override or extend the attributes and methods of parent classes. In other words, child classes inherit all of the parent’s attributes and methods but can also specify attributes and methods that are unique to themselves.\n",
    "\n",
    "\n",
    "### Child Class\n",
    "To create a child class, we need to create the new class with its own name and then put the name of the parent class in parentheses. "
   ]
  },
  {
   "cell_type": "code",
   "execution_count": 6,
   "metadata": {},
   "outputs": [
    {
     "name": "stdout",
     "output_type": "stream",
     "text": [
      "Name :  Turing , Salary:  100\n",
      "Permanent employees can use the gym.\n",
      "Total Employee: 3\n",
      "Role: Permanent\n"
     ]
    }
   ],
   "source": [
    "class PermanentEmployee(Employee):    \n",
    "    def role(self):\n",
    "        print(\"Role: Permanent\")\n",
    "        \n",
    "    def employeePrivilege(self):\n",
    "        print(\"Permanent employees can use the gym.\")\n",
    "        \n",
    "employee3 = PermanentEmployee(\"Turing\", 100)\n",
    "employee3.displayEmployee()\n",
    "employee3.employeePrivilege()\n",
    "employee3.displayCount()\n",
    "employee3.role()"
   ]
  },
  {
   "cell_type": "markdown",
   "metadata": {},
   "source": [
    "## Inheritence with the super() function\n",
    "\n",
    "\n",
    "We use the super() function to access the superclass' methods from the subclass that inherits from it. super() returns a temporary object of the superclass that then allows us to call that superclass’s methods.\n",
    "\n",
    "This is useful for building classes that extend the functionality of previously built classes. Calling the previously built methods with super() saves us from needing to rewrite those methods in our subclass, and allows us to swap out superclasses with minimal code changes."
   ]
  },
  {
   "cell_type": "code",
   "execution_count": 7,
   "metadata": {},
   "outputs": [
    {
     "name": "stdout",
     "output_type": "stream",
     "text": [
      "Name :  Einstein , Salary:  40\n",
      "All employees can use the cafeteria.\n",
      "Permanent employees can use the gym.\n",
      "Total Employee: 4\n",
      "Role: Permanent\n"
     ]
    }
   ],
   "source": [
    "class PermanentEmployee(Employee):\n",
    "    \n",
    "    def __init__(self, name, salary):\n",
    "        '''\n",
    "        The super() function is used to call the __init__() of the Employee parent class.\n",
    "        It allows us to use it in the PermanentEmployee class without repeating code. \n",
    "        '''\n",
    "        super().__init__(name, salary)\n",
    "\n",
    "        \n",
    "    def role(self):\n",
    "        print(\"Role: Permanent\")\n",
    "        \n",
    "    def employeePrivilege(self):\n",
    "        super().employeePrivilege() # Using the super() function we can invoke parent's methods\n",
    "        print(\"Permanent employees can use the gym.\")\n",
    "        \n",
    "\n",
    "        \n",
    "employee4 = PermanentEmployee(\"Einstein\", 40)\n",
    "employee4.displayEmployee()\n",
    "employee4.employeePrivilege()\n",
    "employee4.displayCount()\n",
    "employee4.role()"
   ]
  },
  {
   "cell_type": "markdown",
   "metadata": {},
   "source": [
    "## Example: OOP with Methods using \\*args and \\**kwargs"
   ]
  },
  {
   "cell_type": "code",
   "execution_count": 8,
   "metadata": {},
   "outputs": [
    {
     "name": "stdout",
     "output_type": "stream",
     "text": [
      "21\n",
      "336\n",
      "0\n",
      "Total calculations: 3\n"
     ]
    }
   ],
   "source": [
    "class Calculator():\n",
    "    \n",
    "    numOfCalculations = 0\n",
    "    \n",
    "    def __init__(self, name):\n",
    "        self.name = name\n",
    "\n",
    "        \n",
    "    def totalCalculations(self):\n",
    "        print(\"Total calculations: %d\" % self.numOfCalculations)\n",
    "        \n",
    "    \n",
    "    '''\n",
    "    Performs addition or multiplication based on the keyword argument \n",
    "    and by using the unnamed arguments\n",
    "    '''\n",
    "    def operation(self, *args, **kwargs):\n",
    "        self.numOfCalculations += 1\n",
    "        result = 0\n",
    "        \n",
    "        if(len(kwargs) == 0):\n",
    "            return result\n",
    "        else:\n",
    "        \n",
    "            if(kwargs[\"operation\"] == \"addition\"):\n",
    "                for arg in args:  \n",
    "                    result += arg\n",
    "            elif(kwargs[\"operation\"] == \"multiplication\"):\n",
    "                result = 1\n",
    "                for arg in args:  \n",
    "                    result *= arg\n",
    "            else:\n",
    "                result = 0\n",
    "\n",
    "            \n",
    "            return result\n",
    "        \n",
    "        \n",
    "    \n",
    "    \n",
    "calc = Calculator(\"My Calculator\")\n",
    "result = calc.operation(6, 7, 8, operation=\"addition\")\n",
    "print(result)\n",
    "\n",
    "result = calc.operation(6, 7, 8, operation=\"multiplication\")\n",
    "print(result)\n",
    "\n",
    "result = calc.operation(6, 7)\n",
    "print(result)\n",
    "\n",
    "calc.totalCalculations()"
   ]
  }
 ],
 "metadata": {
  "kernelspec": {
   "display_name": "Python 3",
   "language": "python",
   "name": "python3"
  },
  "language_info": {
   "codemirror_mode": {
    "name": "ipython",
    "version": 3
   },
   "file_extension": ".py",
   "mimetype": "text/x-python",
   "name": "python",
   "nbconvert_exporter": "python",
   "pygments_lexer": "ipython3",
   "version": "3.7.3"
  }
 },
 "nbformat": 4,
 "nbformat_minor": 2
}
